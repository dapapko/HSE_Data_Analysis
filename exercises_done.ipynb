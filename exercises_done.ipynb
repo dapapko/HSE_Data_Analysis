{
  "nbformat": 4,
  "nbformat_minor": 0,
  "metadata": {
    "anaconda-cloud": {},
    "colab": {
      "name": "exercises_done.ipynb",
      "provenance": [],
      "collapsed_sections": [],
      "toc_visible": true,
      "include_colab_link": true
    },
    "kernelspec": {
      "display_name": "Python 3",
      "language": "python",
      "name": "python3"
    },
    "language_info": {
      "codemirror_mode": {
        "name": "ipython",
        "version": 3
      },
      "file_extension": ".py",
      "mimetype": "text/x-python",
      "name": "python",
      "nbconvert_exporter": "python",
      "pygments_lexer": "ipython3",
      "version": "3.8.5"
    }
  },
  "cells": [
    {
      "cell_type": "markdown",
      "metadata": {
        "id": "view-in-github",
        "colab_type": "text"
      },
      "source": [
        "<a href=\"https://colab.research.google.com/github/dapapko/HSE_Data_Analysis/blob/main/exercises_done.ipynb\" target=\"_parent\"><img src=\"https://colab.research.google.com/assets/colab-badge.svg\" alt=\"Open In Colab\"/></a>"
      ]
    },
    {
      "cell_type": "markdown",
      "metadata": {
        "id": "pXu_W-osm-3S"
      },
      "source": [
        "## Python"
      ]
    },
    {
      "cell_type": "code",
      "metadata": {
        "colab": {
          "base_uri": "https://localhost:8080/"
        },
        "id": "KWC3pWmDArnq",
        "outputId": "adfb4181-929c-4202-8efc-9884462b361c"
      },
      "source": [
        "from google.colab import drive\n",
        "drive.mount('/content/drive')"
      ],
      "execution_count": null,
      "outputs": [
        {
          "output_type": "stream",
          "text": [
            "Drive already mounted at /content/drive; to attempt to forcibly remount, call drive.mount(\"/content/drive\", force_remount=True).\n"
          ],
          "name": "stdout"
        }
      ]
    },
    {
      "cell_type": "markdown",
      "metadata": {
        "id": "NoQ3QP2Tm-3o"
      },
      "source": [
        "### Блок №1  \n",
        "Исправьте код ниже, чтобы был такой же вывод, как под комментарием"
      ]
    },
    {
      "cell_type": "code",
      "metadata": {
        "colab": {
          "base_uri": "https://localhost:8080/"
        },
        "id": "EVvVG_kIm-3p",
        "outputId": "90f0dc00-63a1-41cd-ef62-7e4e6aa6ddeb"
      },
      "source": [
        "print(\"I'm a student and I'll become a \\\"strong\\\" programmer\") #I'm a student and I'll become a \"strong\" programmer\n",
        "# Ваш код здесь\n",
        "\n",
        "print('C:\\\\Users\\\\GoodStudent') #C:\\Users\\GoodStudent\n",
        "# Ваш код здесь\n",
        "\n",
        "x = \"My name is Agent Smith\"\n",
        "print(x[1]) #y\n",
        "# Ваш код здесь\n",
        "\n",
        "print(x[3:-4:3]) #nesgt\n",
        "# Ваш код здесь"
      ],
      "execution_count": null,
      "outputs": [
        {
          "output_type": "stream",
          "text": [
            "I'm a student and I'll become a \"strong\" programmer\n",
            "C:\\Users\\GoodStudent\n",
            "y\n",
            "nesgt\n"
          ],
          "name": "stdout"
        }
      ]
    },
    {
      "cell_type": "markdown",
      "metadata": {
        "id": "vgTszMOKm-3q"
      },
      "source": [
        "\n",
        "### Блок №2\n",
        "\n",
        "Запрос ввода осуществляется вызовом функции input(). В функцию можно передать строку, которая будет выведена на экран для общения с пользователем, например:\n",
        "\n",
        "input('Введите ваш возраст')\n",
        "\n",
        "Ввод пользователя возвращается функцией input в виде строки и может быть присвоен переменной:\n",
        "\n",
        "age = input('Введите ваш возраст')\n",
        "\n",
        "Функция input возвращает строку (даже если пользователь ввёл число). Чтобы сконвертировать строку к целому числу, можно сделать следующее:\n"
      ]
    },
    {
      "cell_type": "code",
      "metadata": {
        "id": "Q6FYvlYlm-3r"
      },
      "source": [
        "age_str = input('Введите ваш возраст') # age_str это строка\n",
        "age = int(age_str) # age это int"
      ],
      "execution_count": null,
      "outputs": []
    },
    {
      "cell_type": "markdown",
      "metadata": {
        "id": "7uVp9I8pm-3r"
      },
      "source": [
        "Напишите код для следующих 2 задач:"
      ]
    },
    {
      "cell_type": "code",
      "metadata": {
        "colab": {
          "base_uri": "https://localhost:8080/"
        },
        "id": "lqvVx2oAm-3s",
        "outputId": "340c45d4-2b9c-4cdb-bea6-08496264e889"
      },
      "source": [
        "import math\n",
        "#1. Клиент покупает кофе в кафе. За каждые 6 чашек, 1 чашка даётся в качестве бонуса.\n",
        "#Задача: запросить у пользователя кол-во чашек на покупку, вычислить полагающееся кол-во бонусных чашек кофе и вывести это число через print().\n",
        "# Ваш код здесь\n",
        "cups = int(input(\"Введите количество чашек: \"))\n",
        "print(f'Количество бонусных чашек: {cups // 6}')\n",
        "\n",
        "#2. Запросить у пользователя координаты x и y двух точек на плоскости. Посчитать расстояние между заданными точками и вывести результат.\n",
        "#Примечание: у каждой точки есть две координаты: x и y. Расстояние рассчитывается по формуле, которую вы с лёгкостью найдёте в Интернете.\n",
        "coords = input(\"Введите координаты точек через пробел (пример для точек A(6;2) и B(3;-1) : 6 2 3 -1)\\n\")\n",
        "coords = list(map(float, coords.split()))\n",
        "dist = math.sqrt((coords[2] - coords[0])**2 + (coords[1] - coords[3])**2)\n",
        "print(f'Task #2 \\nDistance: {dist}')"
      ],
      "execution_count": null,
      "outputs": [
        {
          "output_type": "stream",
          "text": [
            "Введите количество чашек: 18\n",
            "Количество бонусных чашек: 3\n",
            "Введите координаты точек через пробел (пример для точек A(6;2) и B(3;-1) : 6 2 3 -1)\n",
            "3 4 4 2\n",
            "Task #2 \n",
            "Distance: 2.23606797749979\n"
          ],
          "name": "stdout"
        }
      ]
    },
    {
      "cell_type": "markdown",
      "metadata": {
        "id": "XrdQqbQom-3s"
      },
      "source": [
        "### Блок №3 (Numpy)"
      ]
    },
    {
      "cell_type": "markdown",
      "metadata": {
        "id": "8M-LjdCnWNoB"
      },
      "source": [
        "Импортировать NumPy под именем np"
      ]
    },
    {
      "cell_type": "code",
      "metadata": {
        "id": "pngD60pVWNoE"
      },
      "source": [
        "import numpy as np"
      ],
      "execution_count": null,
      "outputs": []
    },
    {
      "cell_type": "markdown",
      "metadata": {
        "id": "OTAJzHHoWNoO"
      },
      "source": [
        "Создать вектор (одномерный массив) размера 10, заполненный нулями"
      ]
    },
    {
      "cell_type": "code",
      "metadata": {
        "colab": {
          "base_uri": "https://localhost:8080/"
        },
        "id": "GxXAtryFWNoR",
        "outputId": "28a826f4-da73-4263-b1fa-8eefd99f431a"
      },
      "source": [
        "np.zeros(10)"
      ],
      "execution_count": null,
      "outputs": [
        {
          "output_type": "execute_result",
          "data": {
            "text/plain": [
              "array([0., 0., 0., 0., 0., 0., 0., 0., 0., 0.])"
            ]
          },
          "metadata": {
            "tags": []
          },
          "execution_count": 17
        }
      ]
    },
    {
      "cell_type": "markdown",
      "metadata": {
        "id": "H2fRauXOWNoZ"
      },
      "source": [
        "Создать вектор размера 10, заполненный единицами"
      ]
    },
    {
      "cell_type": "code",
      "metadata": {
        "colab": {
          "base_uri": "https://localhost:8080/"
        },
        "id": "6gFxOJYzWNoc",
        "outputId": "8de0969e-0c76-461a-ae39-64fc39d61c80"
      },
      "source": [
        "np.ones(10)"
      ],
      "execution_count": null,
      "outputs": [
        {
          "output_type": "execute_result",
          "data": {
            "text/plain": [
              "array([1., 1., 1., 1., 1., 1., 1., 1., 1., 1.])"
            ]
          },
          "metadata": {
            "tags": []
          },
          "execution_count": 18
        }
      ]
    },
    {
      "cell_type": "markdown",
      "metadata": {
        "id": "OBT1ww8QWNok"
      },
      "source": [
        "Создать вектор размера 10, заполненный числом 2.5"
      ]
    },
    {
      "cell_type": "code",
      "metadata": {
        "colab": {
          "base_uri": "https://localhost:8080/"
        },
        "id": "PNJTQdggWNom",
        "outputId": "22eae269-4cfd-4318-daab-def94beb9194"
      },
      "source": [
        "np.full(10, 2.5)"
      ],
      "execution_count": null,
      "outputs": [
        {
          "output_type": "execute_result",
          "data": {
            "text/plain": [
              "array([2.5, 2.5, 2.5, 2.5, 2.5, 2.5, 2.5, 2.5, 2.5, 2.5])"
            ]
          },
          "metadata": {
            "tags": []
          },
          "execution_count": 19
        }
      ]
    },
    {
      "cell_type": "markdown",
      "metadata": {
        "id": "67Wz4K7yWNou"
      },
      "source": [
        "Создать вектор размера 10, заполненный нулями, но пятый элемент равен 1"
      ]
    },
    {
      "cell_type": "code",
      "metadata": {
        "colab": {
          "base_uri": "https://localhost:8080/"
        },
        "id": "2sk9JKXSWNow",
        "outputId": "031496b8-6b05-4edc-d02d-8718721cd9b9"
      },
      "source": [
        "arr = np.zeros(10)\n",
        "arr[5] = 1\n",
        "arr"
      ],
      "execution_count": null,
      "outputs": [
        {
          "output_type": "execute_result",
          "data": {
            "text/plain": [
              "array([0., 0., 0., 0., 0., 1., 0., 0., 0., 0.])"
            ]
          },
          "metadata": {
            "tags": []
          },
          "execution_count": 20
        }
      ]
    },
    {
      "cell_type": "markdown",
      "metadata": {
        "id": "cyvBgPuZWNo4"
      },
      "source": [
        "Развернуть вектор (первый становится последним)"
      ]
    },
    {
      "cell_type": "code",
      "metadata": {
        "colab": {
          "base_uri": "https://localhost:8080/"
        },
        "id": "_HTxopl4WNo6",
        "outputId": "d5e9c943-5f6f-4301-87be-666fc6ce9bf4"
      },
      "source": [
        "arr = np.random.rand(10)\n",
        "print(f'Original: {arr}')\n",
        "print(f\"Reversed: {arr[::-1]}\")"
      ],
      "execution_count": null,
      "outputs": [
        {
          "output_type": "stream",
          "text": [
            "Original: [0.34072972 0.73049351 0.55255271 0.68795428 0.74192235 0.47718916\n",
            " 0.92683123 0.57039509 0.88587811 0.9899197 ]\n",
            "Reversed: [0.9899197  0.88587811 0.57039509 0.92683123 0.47718916 0.74192235\n",
            " 0.68795428 0.55255271 0.73049351 0.34072972]\n"
          ],
          "name": "stdout"
        }
      ]
    },
    {
      "cell_type": "markdown",
      "metadata": {
        "id": "djyQ4OAQWNpC"
      },
      "source": [
        "Создать матрицу (двумерный массив) 3x3 со значениями от 0 до 8"
      ]
    },
    {
      "cell_type": "code",
      "metadata": {
        "colab": {
          "base_uri": "https://localhost:8080/"
        },
        "id": "32hZCGswWNpE",
        "outputId": "48465c12-b0c1-44f5-ae2f-3348fbab3bb4"
      },
      "source": [
        "np.arange(0,9).reshape(3,3)"
      ],
      "execution_count": null,
      "outputs": [
        {
          "output_type": "execute_result",
          "data": {
            "text/plain": [
              "array([[0, 1, 2],\n",
              "       [3, 4, 5],\n",
              "       [6, 7, 8]])"
            ]
          },
          "metadata": {
            "tags": []
          },
          "execution_count": 63
        }
      ]
    },
    {
      "cell_type": "markdown",
      "metadata": {
        "id": "NKH0OaQeWNpO"
      },
      "source": [
        "Найти индексы ненулевых элементов в [1,2,0,0,4,0]"
      ]
    },
    {
      "cell_type": "code",
      "metadata": {
        "colab": {
          "base_uri": "https://localhost:8080/"
        },
        "id": "LXGePT2lWNpR",
        "outputId": "be26eb03-04ef-4529-a10c-7c8f6c25db76"
      },
      "source": [
        "vector = [1,2,0,0,4,0]\n",
        "np.nonzero(vector)"
      ],
      "execution_count": null,
      "outputs": [
        {
          "output_type": "execute_result",
          "data": {
            "text/plain": [
              "(array([0, 1, 4]),)"
            ]
          },
          "metadata": {
            "tags": []
          },
          "execution_count": 28
        }
      ]
    },
    {
      "cell_type": "markdown",
      "metadata": {
        "id": "QcrRUyqcWNpX"
      },
      "source": [
        "Создать 3x3 единичную матрицу"
      ]
    },
    {
      "cell_type": "code",
      "metadata": {
        "colab": {
          "base_uri": "https://localhost:8080/"
        },
        "id": "h7hZ2SEeWNpa",
        "outputId": "2f3f8ff1-6c12-4b2c-c7b1-85bc7be74b38"
      },
      "source": [
        "np.ones((3,3))"
      ],
      "execution_count": null,
      "outputs": [
        {
          "output_type": "execute_result",
          "data": {
            "text/plain": [
              "array([[1., 1., 1.],\n",
              "       [1., 1., 1.],\n",
              "       [1., 1., 1.]])"
            ]
          },
          "metadata": {
            "tags": []
          },
          "execution_count": 24
        }
      ]
    },
    {
      "cell_type": "markdown",
      "metadata": {
        "id": "aUiBH_1BWNph"
      },
      "source": [
        "Создать массив 3x3x3 со случайными значениями"
      ]
    },
    {
      "cell_type": "code",
      "metadata": {
        "colab": {
          "base_uri": "https://localhost:8080/"
        },
        "id": "2yJVhPoKWNpj",
        "outputId": "f8b7a402-819e-4826-ba40-2ca45d5e862d"
      },
      "source": [
        "np.random.rand(3,3,3)"
      ],
      "execution_count": null,
      "outputs": [
        {
          "output_type": "execute_result",
          "data": {
            "text/plain": [
              "array([[[0.13681912, 0.71094763, 0.90080954],\n",
              "        [0.07163221, 0.04961238, 0.21525934],\n",
              "        [0.85823764, 0.06096179, 0.80311688]],\n",
              "\n",
              "       [[0.42403721, 0.47812   , 0.57278313],\n",
              "        [0.74574751, 0.94136984, 0.277976  ],\n",
              "        [0.92310093, 0.82080993, 0.94788423]],\n",
              "\n",
              "       [[0.41506115, 0.11417892, 0.29726908],\n",
              "        [0.73452819, 0.22938813, 0.48811086],\n",
              "        [0.65816432, 0.75091084, 0.53639577]]])"
            ]
          },
          "metadata": {
            "tags": []
          },
          "execution_count": 33
        }
      ]
    },
    {
      "cell_type": "markdown",
      "metadata": {
        "id": "8H2HId3CWNp0"
      },
      "source": [
        "Перемножить матрицы 5x3 и 3x2"
      ]
    },
    {
      "cell_type": "code",
      "metadata": {
        "colab": {
          "base_uri": "https://localhost:8080/"
        },
        "id": "idlE1LjEWNp2",
        "outputId": "21f6e9f4-b4a2-416a-d88d-377e172110a1"
      },
      "source": [
        "m1 = np.random.rand(5,3)\n",
        "m2 = np.random.rand(3,2)\n",
        "print(m1)\n",
        "print(m2)\n",
        "np.dot(m1, m2)"
      ],
      "execution_count": null,
      "outputs": [
        {
          "output_type": "stream",
          "text": [
            "[[0.21539719 0.11661563 0.50085137]\n",
            " [0.02945896 0.99175904 0.96278405]\n",
            " [0.87253362 0.42938812 0.18924197]\n",
            " [0.78572136 0.40025116 0.76987542]\n",
            " [0.64786265 0.17070456 0.43291086]]\n",
            "[[0.99682453 0.25855279]\n",
            " [0.68395901 0.43291219]\n",
            " [0.26201227 0.87326282]]\n"
          ],
          "name": "stdout"
        },
        {
          "output_type": "execute_result",
          "data": {
            "text/plain": [
              "array([[0.42570271, 0.54355075],\n",
              "       [0.95994917, 1.27772479],\n",
              "       [1.21303051, 0.57674133],\n",
              "       [1.25869851, 1.04872763],\n",
              "       [0.87598826, 0.61945174]])"
            ]
          },
          "metadata": {
            "tags": []
          },
          "execution_count": 40
        }
      ]
    },
    {
      "cell_type": "markdown",
      "metadata": {
        "id": "1Sg6RT3CWNp8"
      },
      "source": [
        "Создать вектор размера 10 со значениями от 0 до 1, не включая ни то, ни другое\n",
        "\n",
        "---\n",
        "\n",
        "\n",
        "Зададим случайный вектор $(a_1,a_2,a_3,...,a_{10})^T$"
      ]
    },
    {
      "cell_type": "code",
      "metadata": {
        "colab": {
          "base_uri": "https://localhost:8080/"
        },
        "id": "Acxqyby_WNp_",
        "outputId": "a6ae1dfc-36b0-4be6-b8ab-f9b931e5268a"
      },
      "source": [
        "# Generate random number from (0;1)\n",
        "def rng():\n",
        "  while True:\n",
        "    num = np.random.random_sample()\n",
        "    if num !=0:\n",
        "      return num\n",
        "\n",
        "arr = np.asarray([ rng() for x in range (0,10) ])\n",
        "print(arr)"
      ],
      "execution_count": null,
      "outputs": [
        {
          "output_type": "stream",
          "text": [
            "[0.82425599 0.77104432 0.90686559 0.57299168 0.24218514 0.66414057\n",
            " 0.68145735 0.86577026 0.94288768 0.7144421 ]\n"
          ],
          "name": "stdout"
        }
      ]
    },
    {
      "cell_type": "markdown",
      "metadata": {
        "id": "q2VQ0SMOWNqF"
      },
      "source": [
        "Заменить максимальный элемент на ноль"
      ]
    },
    {
      "cell_type": "code",
      "metadata": {
        "id": "EZ3YXi1lWNqI",
        "colab": {
          "base_uri": "https://localhost:8080/"
        },
        "outputId": "d8ace765-682d-4f57-e41c-6e2fd7660d67"
      },
      "source": [
        "arr[np.argmax(arr)] = 0\n",
        "arr"
      ],
      "execution_count": null,
      "outputs": [
        {
          "output_type": "execute_result",
          "data": {
            "text/plain": [
              "array([0.82425599, 0.77104432, 0.90686559, 0.57299168, 0.24218514,\n",
              "       0.66414057, 0.68145735, 0.86577026, 0.        , 0.7144421 ])"
            ]
          },
          "metadata": {
            "tags": []
          },
          "execution_count": 54
        }
      ]
    },
    {
      "cell_type": "markdown",
      "metadata": {
        "id": "IqRrNk7bWNqP"
      },
      "source": [
        "Преобразовать массив из float в int"
      ]
    },
    {
      "cell_type": "code",
      "metadata": {
        "id": "nKcjHQgTWNqR",
        "colab": {
          "base_uri": "https://localhost:8080/"
        },
        "outputId": "e2908877-c4c6-47ac-a114-82ccb07340e2"
      },
      "source": [
        "arr = np.random.random_sample(5)\n",
        "print(arr)\n",
        "arr.astype(dtype='int')"
      ],
      "execution_count": null,
      "outputs": [
        {
          "output_type": "stream",
          "text": [
            "[0.20274226 0.21561627 0.92745666 0.49390028 0.41243355]\n"
          ],
          "name": "stdout"
        },
        {
          "output_type": "execute_result",
          "data": {
            "text/plain": [
              "array([0, 0, 0, 0, 0])"
            ]
          },
          "metadata": {
            "tags": []
          },
          "execution_count": 62
        }
      ]
    },
    {
      "cell_type": "markdown",
      "metadata": {
        "id": "iHxG9oKcWNqz"
      },
      "source": [
        "Найти наиболее частое значение в массиве\n",
        "\n",
        "\n",
        "\n",
        "\n",
        "\n"
      ]
    },
    {
      "cell_type": "code",
      "metadata": {
        "id": "iGJ50nWwWNq1",
        "colab": {
          "base_uri": "https://localhost:8080/"
        },
        "outputId": "5354990e-c78b-45ab-bf4f-07b78dc3cd17"
      },
      "source": [
        "arr = np.asarray([2,3,3,4,5,-1,-1,-5.3, 2])\n",
        "unique, counts = np.unique(arr,return_counts=True)\n",
        "print(unique[ counts.argmax() ])"
      ],
      "execution_count": null,
      "outputs": [
        {
          "output_type": "stream",
          "text": [
            "-1.0\n"
          ],
          "name": "stdout"
        }
      ]
    },
    {
      "cell_type": "markdown",
      "metadata": {
        "id": "1HSkmMyrWNq7"
      },
      "source": [
        "Найти n наибольших значений в массиве"
      ]
    },
    {
      "cell_type": "code",
      "metadata": {
        "id": "I5Zagd9NWNq9",
        "colab": {
          "base_uri": "https://localhost:8080/"
        },
        "outputId": "81a5ce34-68da-40bc-d226-09496feacf70"
      },
      "source": [
        "n = 2\n",
        "arr = np.asarray([2,3,3,4,5,-1,-1,-5.3, 2])\n",
        "arr.sort()\n",
        "arr[-n:]"
      ],
      "execution_count": null,
      "outputs": [
        {
          "output_type": "execute_result",
          "data": {
            "text/plain": [
              "array([4., 5.])"
            ]
          },
          "metadata": {
            "tags": []
          },
          "execution_count": 102
        }
      ]
    },
    {
      "cell_type": "markdown",
      "metadata": {
        "id": "Me9w5zdLWNrG"
      },
      "source": [
        "### Блок №4 (Pandas)"
      ]
    },
    {
      "cell_type": "markdown",
      "metadata": {
        "collapsed": true,
        "id": "yvBMIZBJWNrI"
      },
      "source": [
        "Перейти по ссылке [Kaggle]( https://www.kaggle.com/openfoodfacts/world-food-facts). Скачать датасет на свой компьютер и распаковать. Считать csv файл в датафрейм food:"
      ]
    },
    {
      "cell_type": "code",
      "metadata": {
        "id": "c2xOsBOQWNrU"
      },
      "source": [
        "pd.set_option('display.max_columns', 100)\n",
        "pd.set_option('display.max_rows', 100)\n",
        "pd.set_option('precision', 2)\n",
        "\n",
        "import pandas as pd\n",
        "food=pd.read_csv('/content/drive/My Drive/data/en.openfoodfacts.org.products.tsv',sep='\\t', low_memory=False)"
      ],
      "execution_count": null,
      "outputs": []
    },
    {
      "cell_type": "markdown",
      "metadata": {
        "collapsed": true,
        "id": "tkXH2JtEWNrZ"
      },
      "source": [
        "Посмотреть первые 5 записей"
      ]
    },
    {
      "cell_type": "code",
      "metadata": {
        "id": "umkugtQ9WNrb",
        "colab": {
          "base_uri": "https://localhost:8080/",
          "height": 576
        },
        "outputId": "8d980259-a82b-451c-94c4-e8610b81e51c"
      },
      "source": [
        "display(food.head())"
      ],
      "execution_count": null,
      "outputs": [
        {
          "output_type": "display_data",
          "data": {
            "text/html": [
              "<div>\n",
              "<style scoped>\n",
              "    .dataframe tbody tr th:only-of-type {\n",
              "        vertical-align: middle;\n",
              "    }\n",
              "\n",
              "    .dataframe tbody tr th {\n",
              "        vertical-align: top;\n",
              "    }\n",
              "\n",
              "    .dataframe thead th {\n",
              "        text-align: right;\n",
              "    }\n",
              "</style>\n",
              "<table border=\"1\" class=\"dataframe\">\n",
              "  <thead>\n",
              "    <tr style=\"text-align: right;\">\n",
              "      <th></th>\n",
              "      <th>code</th>\n",
              "      <th>url</th>\n",
              "      <th>creator</th>\n",
              "      <th>created_t</th>\n",
              "      <th>created_datetime</th>\n",
              "      <th>last_modified_t</th>\n",
              "      <th>last_modified_datetime</th>\n",
              "      <th>product_name</th>\n",
              "      <th>generic_name</th>\n",
              "      <th>quantity</th>\n",
              "      <th>packaging</th>\n",
              "      <th>packaging_tags</th>\n",
              "      <th>brands</th>\n",
              "      <th>brands_tags</th>\n",
              "      <th>categories</th>\n",
              "      <th>categories_tags</th>\n",
              "      <th>categories_en</th>\n",
              "      <th>origins</th>\n",
              "      <th>origins_tags</th>\n",
              "      <th>manufacturing_places</th>\n",
              "      <th>manufacturing_places_tags</th>\n",
              "      <th>labels</th>\n",
              "      <th>labels_tags</th>\n",
              "      <th>labels_en</th>\n",
              "      <th>emb_codes</th>\n",
              "      <th>emb_codes_tags</th>\n",
              "      <th>first_packaging_code_geo</th>\n",
              "      <th>cities</th>\n",
              "      <th>cities_tags</th>\n",
              "      <th>purchase_places</th>\n",
              "      <th>stores</th>\n",
              "      <th>countries</th>\n",
              "      <th>countries_tags</th>\n",
              "      <th>countries_en</th>\n",
              "      <th>ingredients_text</th>\n",
              "      <th>allergens</th>\n",
              "      <th>allergens_en</th>\n",
              "      <th>traces</th>\n",
              "      <th>traces_tags</th>\n",
              "      <th>traces_en</th>\n",
              "      <th>serving_size</th>\n",
              "      <th>no_nutriments</th>\n",
              "      <th>additives_n</th>\n",
              "      <th>additives</th>\n",
              "      <th>additives_tags</th>\n",
              "      <th>additives_en</th>\n",
              "      <th>ingredients_from_palm_oil_n</th>\n",
              "      <th>ingredients_from_palm_oil</th>\n",
              "      <th>ingredients_from_palm_oil_tags</th>\n",
              "      <th>ingredients_that_may_be_from_palm_oil_n</th>\n",
              "      <th>...</th>\n",
              "      <th>casein_100g</th>\n",
              "      <th>serum-proteins_100g</th>\n",
              "      <th>nucleotides_100g</th>\n",
              "      <th>salt_100g</th>\n",
              "      <th>sodium_100g</th>\n",
              "      <th>alcohol_100g</th>\n",
              "      <th>vitamin-a_100g</th>\n",
              "      <th>beta-carotene_100g</th>\n",
              "      <th>vitamin-d_100g</th>\n",
              "      <th>vitamin-e_100g</th>\n",
              "      <th>vitamin-k_100g</th>\n",
              "      <th>vitamin-c_100g</th>\n",
              "      <th>vitamin-b1_100g</th>\n",
              "      <th>vitamin-b2_100g</th>\n",
              "      <th>vitamin-pp_100g</th>\n",
              "      <th>vitamin-b6_100g</th>\n",
              "      <th>vitamin-b9_100g</th>\n",
              "      <th>folates_100g</th>\n",
              "      <th>vitamin-b12_100g</th>\n",
              "      <th>biotin_100g</th>\n",
              "      <th>pantothenic-acid_100g</th>\n",
              "      <th>silica_100g</th>\n",
              "      <th>bicarbonate_100g</th>\n",
              "      <th>potassium_100g</th>\n",
              "      <th>chloride_100g</th>\n",
              "      <th>calcium_100g</th>\n",
              "      <th>phosphorus_100g</th>\n",
              "      <th>iron_100g</th>\n",
              "      <th>magnesium_100g</th>\n",
              "      <th>zinc_100g</th>\n",
              "      <th>copper_100g</th>\n",
              "      <th>manganese_100g</th>\n",
              "      <th>fluoride_100g</th>\n",
              "      <th>selenium_100g</th>\n",
              "      <th>chromium_100g</th>\n",
              "      <th>molybdenum_100g</th>\n",
              "      <th>iodine_100g</th>\n",
              "      <th>caffeine_100g</th>\n",
              "      <th>taurine_100g</th>\n",
              "      <th>ph_100g</th>\n",
              "      <th>fruits-vegetables-nuts_100g</th>\n",
              "      <th>fruits-vegetables-nuts-estimate_100g</th>\n",
              "      <th>collagen-meat-protein-ratio_100g</th>\n",
              "      <th>cocoa_100g</th>\n",
              "      <th>chlorophyl_100g</th>\n",
              "      <th>carbon-footprint_100g</th>\n",
              "      <th>nutrition-score-fr_100g</th>\n",
              "      <th>nutrition-score-uk_100g</th>\n",
              "      <th>glycemic-index_100g</th>\n",
              "      <th>water-hardness_100g</th>\n",
              "    </tr>\n",
              "  </thead>\n",
              "  <tbody>\n",
              "    <tr>\n",
              "      <th>0</th>\n",
              "      <td>0000000003087</td>\n",
              "      <td>http://world-en.openfoodfacts.org/product/0000...</td>\n",
              "      <td>openfoodfacts-contributors</td>\n",
              "      <td>1474103866</td>\n",
              "      <td>2016-09-17T09:17:46Z</td>\n",
              "      <td>1474103893</td>\n",
              "      <td>2016-09-17T09:18:13Z</td>\n",
              "      <td>Farine de blé noir</td>\n",
              "      <td>NaN</td>\n",
              "      <td>1kg</td>\n",
              "      <td>NaN</td>\n",
              "      <td>NaN</td>\n",
              "      <td>Ferme t'y R'nao</td>\n",
              "      <td>ferme-t-y-r-nao</td>\n",
              "      <td>NaN</td>\n",
              "      <td>NaN</td>\n",
              "      <td>NaN</td>\n",
              "      <td>NaN</td>\n",
              "      <td>NaN</td>\n",
              "      <td>NaN</td>\n",
              "      <td>NaN</td>\n",
              "      <td>NaN</td>\n",
              "      <td>NaN</td>\n",
              "      <td>NaN</td>\n",
              "      <td>NaN</td>\n",
              "      <td>NaN</td>\n",
              "      <td>NaN</td>\n",
              "      <td>NaN</td>\n",
              "      <td>NaN</td>\n",
              "      <td>NaN</td>\n",
              "      <td>NaN</td>\n",
              "      <td>en:FR</td>\n",
              "      <td>en:france</td>\n",
              "      <td>France</td>\n",
              "      <td>NaN</td>\n",
              "      <td>NaN</td>\n",
              "      <td>NaN</td>\n",
              "      <td>NaN</td>\n",
              "      <td>NaN</td>\n",
              "      <td>NaN</td>\n",
              "      <td>NaN</td>\n",
              "      <td>NaN</td>\n",
              "      <td>NaN</td>\n",
              "      <td>NaN</td>\n",
              "      <td>NaN</td>\n",
              "      <td>NaN</td>\n",
              "      <td>NaN</td>\n",
              "      <td>NaN</td>\n",
              "      <td>NaN</td>\n",
              "      <td>NaN</td>\n",
              "      <td>...</td>\n",
              "      <td>NaN</td>\n",
              "      <td>NaN</td>\n",
              "      <td>NaN</td>\n",
              "      <td>NaN</td>\n",
              "      <td>NaN</td>\n",
              "      <td>NaN</td>\n",
              "      <td>NaN</td>\n",
              "      <td>NaN</td>\n",
              "      <td>NaN</td>\n",
              "      <td>NaN</td>\n",
              "      <td>NaN</td>\n",
              "      <td>NaN</td>\n",
              "      <td>NaN</td>\n",
              "      <td>NaN</td>\n",
              "      <td>NaN</td>\n",
              "      <td>NaN</td>\n",
              "      <td>NaN</td>\n",
              "      <td>NaN</td>\n",
              "      <td>NaN</td>\n",
              "      <td>NaN</td>\n",
              "      <td>NaN</td>\n",
              "      <td>NaN</td>\n",
              "      <td>NaN</td>\n",
              "      <td>NaN</td>\n",
              "      <td>NaN</td>\n",
              "      <td>NaN</td>\n",
              "      <td>NaN</td>\n",
              "      <td>NaN</td>\n",
              "      <td>NaN</td>\n",
              "      <td>NaN</td>\n",
              "      <td>NaN</td>\n",
              "      <td>NaN</td>\n",
              "      <td>NaN</td>\n",
              "      <td>NaN</td>\n",
              "      <td>NaN</td>\n",
              "      <td>NaN</td>\n",
              "      <td>NaN</td>\n",
              "      <td>NaN</td>\n",
              "      <td>NaN</td>\n",
              "      <td>NaN</td>\n",
              "      <td>NaN</td>\n",
              "      <td>NaN</td>\n",
              "      <td>NaN</td>\n",
              "      <td>NaN</td>\n",
              "      <td>NaN</td>\n",
              "      <td>NaN</td>\n",
              "      <td>NaN</td>\n",
              "      <td>NaN</td>\n",
              "      <td>NaN</td>\n",
              "      <td>NaN</td>\n",
              "    </tr>\n",
              "    <tr>\n",
              "      <th>1</th>\n",
              "      <td>0000000004530</td>\n",
              "      <td>http://world-en.openfoodfacts.org/product/0000...</td>\n",
              "      <td>usda-ndb-import</td>\n",
              "      <td>1489069957</td>\n",
              "      <td>2017-03-09T14:32:37Z</td>\n",
              "      <td>1489069957</td>\n",
              "      <td>2017-03-09T14:32:37Z</td>\n",
              "      <td>Banana Chips Sweetened (Whole)</td>\n",
              "      <td>NaN</td>\n",
              "      <td>NaN</td>\n",
              "      <td>NaN</td>\n",
              "      <td>NaN</td>\n",
              "      <td>NaN</td>\n",
              "      <td>NaN</td>\n",
              "      <td>NaN</td>\n",
              "      <td>NaN</td>\n",
              "      <td>NaN</td>\n",
              "      <td>NaN</td>\n",
              "      <td>NaN</td>\n",
              "      <td>NaN</td>\n",
              "      <td>NaN</td>\n",
              "      <td>NaN</td>\n",
              "      <td>NaN</td>\n",
              "      <td>NaN</td>\n",
              "      <td>NaN</td>\n",
              "      <td>NaN</td>\n",
              "      <td>NaN</td>\n",
              "      <td>NaN</td>\n",
              "      <td>NaN</td>\n",
              "      <td>NaN</td>\n",
              "      <td>NaN</td>\n",
              "      <td>US</td>\n",
              "      <td>en:united-states</td>\n",
              "      <td>United States</td>\n",
              "      <td>Bananas, vegetable oil (coconut oil, corn oil ...</td>\n",
              "      <td>NaN</td>\n",
              "      <td>NaN</td>\n",
              "      <td>NaN</td>\n",
              "      <td>NaN</td>\n",
              "      <td>NaN</td>\n",
              "      <td>28 g (1 ONZ)</td>\n",
              "      <td>NaN</td>\n",
              "      <td>0.0</td>\n",
              "      <td>[ bananas -&gt; en:bananas  ]  [ vegetable-oil -...</td>\n",
              "      <td>NaN</td>\n",
              "      <td>NaN</td>\n",
              "      <td>0.0</td>\n",
              "      <td>NaN</td>\n",
              "      <td>NaN</td>\n",
              "      <td>0.0</td>\n",
              "      <td>...</td>\n",
              "      <td>NaN</td>\n",
              "      <td>NaN</td>\n",
              "      <td>NaN</td>\n",
              "      <td>0.00</td>\n",
              "      <td>0.00</td>\n",
              "      <td>NaN</td>\n",
              "      <td>0.0</td>\n",
              "      <td>NaN</td>\n",
              "      <td>NaN</td>\n",
              "      <td>NaN</td>\n",
              "      <td>NaN</td>\n",
              "      <td>0.02</td>\n",
              "      <td>NaN</td>\n",
              "      <td>NaN</td>\n",
              "      <td>NaN</td>\n",
              "      <td>NaN</td>\n",
              "      <td>NaN</td>\n",
              "      <td>NaN</td>\n",
              "      <td>NaN</td>\n",
              "      <td>NaN</td>\n",
              "      <td>NaN</td>\n",
              "      <td>NaN</td>\n",
              "      <td>NaN</td>\n",
              "      <td>NaN</td>\n",
              "      <td>NaN</td>\n",
              "      <td>0.00</td>\n",
              "      <td>NaN</td>\n",
              "      <td>1.29e-03</td>\n",
              "      <td>NaN</td>\n",
              "      <td>NaN</td>\n",
              "      <td>NaN</td>\n",
              "      <td>NaN</td>\n",
              "      <td>NaN</td>\n",
              "      <td>NaN</td>\n",
              "      <td>NaN</td>\n",
              "      <td>NaN</td>\n",
              "      <td>NaN</td>\n",
              "      <td>NaN</td>\n",
              "      <td>NaN</td>\n",
              "      <td>NaN</td>\n",
              "      <td>NaN</td>\n",
              "      <td>NaN</td>\n",
              "      <td>NaN</td>\n",
              "      <td>NaN</td>\n",
              "      <td>NaN</td>\n",
              "      <td>NaN</td>\n",
              "      <td>14.0</td>\n",
              "      <td>14.0</td>\n",
              "      <td>NaN</td>\n",
              "      <td>NaN</td>\n",
              "    </tr>\n",
              "    <tr>\n",
              "      <th>2</th>\n",
              "      <td>0000000004559</td>\n",
              "      <td>http://world-en.openfoodfacts.org/product/0000...</td>\n",
              "      <td>usda-ndb-import</td>\n",
              "      <td>1489069957</td>\n",
              "      <td>2017-03-09T14:32:37Z</td>\n",
              "      <td>1489069957</td>\n",
              "      <td>2017-03-09T14:32:37Z</td>\n",
              "      <td>Peanuts</td>\n",
              "      <td>NaN</td>\n",
              "      <td>NaN</td>\n",
              "      <td>NaN</td>\n",
              "      <td>NaN</td>\n",
              "      <td>Torn &amp; Glasser</td>\n",
              "      <td>torn-glasser</td>\n",
              "      <td>NaN</td>\n",
              "      <td>NaN</td>\n",
              "      <td>NaN</td>\n",
              "      <td>NaN</td>\n",
              "      <td>NaN</td>\n",
              "      <td>NaN</td>\n",
              "      <td>NaN</td>\n",
              "      <td>NaN</td>\n",
              "      <td>NaN</td>\n",
              "      <td>NaN</td>\n",
              "      <td>NaN</td>\n",
              "      <td>NaN</td>\n",
              "      <td>NaN</td>\n",
              "      <td>NaN</td>\n",
              "      <td>NaN</td>\n",
              "      <td>NaN</td>\n",
              "      <td>NaN</td>\n",
              "      <td>US</td>\n",
              "      <td>en:united-states</td>\n",
              "      <td>United States</td>\n",
              "      <td>Peanuts, wheat flour, sugar, rice flour, tapio...</td>\n",
              "      <td>NaN</td>\n",
              "      <td>NaN</td>\n",
              "      <td>NaN</td>\n",
              "      <td>NaN</td>\n",
              "      <td>NaN</td>\n",
              "      <td>28 g (0.25 cup)</td>\n",
              "      <td>NaN</td>\n",
              "      <td>0.0</td>\n",
              "      <td>[ peanuts -&gt; en:peanuts  ]  [ wheat-flour -&gt; ...</td>\n",
              "      <td>NaN</td>\n",
              "      <td>NaN</td>\n",
              "      <td>0.0</td>\n",
              "      <td>NaN</td>\n",
              "      <td>NaN</td>\n",
              "      <td>0.0</td>\n",
              "      <td>...</td>\n",
              "      <td>NaN</td>\n",
              "      <td>NaN</td>\n",
              "      <td>NaN</td>\n",
              "      <td>0.64</td>\n",
              "      <td>0.25</td>\n",
              "      <td>NaN</td>\n",
              "      <td>0.0</td>\n",
              "      <td>NaN</td>\n",
              "      <td>NaN</td>\n",
              "      <td>NaN</td>\n",
              "      <td>NaN</td>\n",
              "      <td>0.00</td>\n",
              "      <td>NaN</td>\n",
              "      <td>NaN</td>\n",
              "      <td>NaN</td>\n",
              "      <td>NaN</td>\n",
              "      <td>NaN</td>\n",
              "      <td>NaN</td>\n",
              "      <td>NaN</td>\n",
              "      <td>NaN</td>\n",
              "      <td>NaN</td>\n",
              "      <td>NaN</td>\n",
              "      <td>NaN</td>\n",
              "      <td>NaN</td>\n",
              "      <td>NaN</td>\n",
              "      <td>0.07</td>\n",
              "      <td>NaN</td>\n",
              "      <td>1.29e-03</td>\n",
              "      <td>NaN</td>\n",
              "      <td>NaN</td>\n",
              "      <td>NaN</td>\n",
              "      <td>NaN</td>\n",
              "      <td>NaN</td>\n",
              "      <td>NaN</td>\n",
              "      <td>NaN</td>\n",
              "      <td>NaN</td>\n",
              "      <td>NaN</td>\n",
              "      <td>NaN</td>\n",
              "      <td>NaN</td>\n",
              "      <td>NaN</td>\n",
              "      <td>NaN</td>\n",
              "      <td>NaN</td>\n",
              "      <td>NaN</td>\n",
              "      <td>NaN</td>\n",
              "      <td>NaN</td>\n",
              "      <td>NaN</td>\n",
              "      <td>0.0</td>\n",
              "      <td>0.0</td>\n",
              "      <td>NaN</td>\n",
              "      <td>NaN</td>\n",
              "    </tr>\n",
              "    <tr>\n",
              "      <th>3</th>\n",
              "      <td>0000000016087</td>\n",
              "      <td>http://world-en.openfoodfacts.org/product/0000...</td>\n",
              "      <td>usda-ndb-import</td>\n",
              "      <td>1489055731</td>\n",
              "      <td>2017-03-09T10:35:31Z</td>\n",
              "      <td>1489055731</td>\n",
              "      <td>2017-03-09T10:35:31Z</td>\n",
              "      <td>Organic Salted Nut Mix</td>\n",
              "      <td>NaN</td>\n",
              "      <td>NaN</td>\n",
              "      <td>NaN</td>\n",
              "      <td>NaN</td>\n",
              "      <td>Grizzlies</td>\n",
              "      <td>grizzlies</td>\n",
              "      <td>NaN</td>\n",
              "      <td>NaN</td>\n",
              "      <td>NaN</td>\n",
              "      <td>NaN</td>\n",
              "      <td>NaN</td>\n",
              "      <td>NaN</td>\n",
              "      <td>NaN</td>\n",
              "      <td>NaN</td>\n",
              "      <td>NaN</td>\n",
              "      <td>NaN</td>\n",
              "      <td>NaN</td>\n",
              "      <td>NaN</td>\n",
              "      <td>NaN</td>\n",
              "      <td>NaN</td>\n",
              "      <td>NaN</td>\n",
              "      <td>NaN</td>\n",
              "      <td>NaN</td>\n",
              "      <td>US</td>\n",
              "      <td>en:united-states</td>\n",
              "      <td>United States</td>\n",
              "      <td>Organic hazelnuts, organic cashews, organic wa...</td>\n",
              "      <td>NaN</td>\n",
              "      <td>NaN</td>\n",
              "      <td>NaN</td>\n",
              "      <td>NaN</td>\n",
              "      <td>NaN</td>\n",
              "      <td>28 g (0.25 cup)</td>\n",
              "      <td>NaN</td>\n",
              "      <td>0.0</td>\n",
              "      <td>[ organic-hazelnuts -&gt; en:organic-hazelnuts  ...</td>\n",
              "      <td>NaN</td>\n",
              "      <td>NaN</td>\n",
              "      <td>0.0</td>\n",
              "      <td>NaN</td>\n",
              "      <td>NaN</td>\n",
              "      <td>0.0</td>\n",
              "      <td>...</td>\n",
              "      <td>NaN</td>\n",
              "      <td>NaN</td>\n",
              "      <td>NaN</td>\n",
              "      <td>1.22</td>\n",
              "      <td>0.48</td>\n",
              "      <td>NaN</td>\n",
              "      <td>NaN</td>\n",
              "      <td>NaN</td>\n",
              "      <td>NaN</td>\n",
              "      <td>NaN</td>\n",
              "      <td>NaN</td>\n",
              "      <td>NaN</td>\n",
              "      <td>NaN</td>\n",
              "      <td>NaN</td>\n",
              "      <td>NaN</td>\n",
              "      <td>NaN</td>\n",
              "      <td>NaN</td>\n",
              "      <td>NaN</td>\n",
              "      <td>NaN</td>\n",
              "      <td>NaN</td>\n",
              "      <td>NaN</td>\n",
              "      <td>NaN</td>\n",
              "      <td>NaN</td>\n",
              "      <td>NaN</td>\n",
              "      <td>NaN</td>\n",
              "      <td>0.14</td>\n",
              "      <td>NaN</td>\n",
              "      <td>5.14e-03</td>\n",
              "      <td>NaN</td>\n",
              "      <td>NaN</td>\n",
              "      <td>NaN</td>\n",
              "      <td>NaN</td>\n",
              "      <td>NaN</td>\n",
              "      <td>NaN</td>\n",
              "      <td>NaN</td>\n",
              "      <td>NaN</td>\n",
              "      <td>NaN</td>\n",
              "      <td>NaN</td>\n",
              "      <td>NaN</td>\n",
              "      <td>NaN</td>\n",
              "      <td>NaN</td>\n",
              "      <td>NaN</td>\n",
              "      <td>NaN</td>\n",
              "      <td>NaN</td>\n",
              "      <td>NaN</td>\n",
              "      <td>NaN</td>\n",
              "      <td>12.0</td>\n",
              "      <td>12.0</td>\n",
              "      <td>NaN</td>\n",
              "      <td>NaN</td>\n",
              "    </tr>\n",
              "    <tr>\n",
              "      <th>4</th>\n",
              "      <td>0000000016094</td>\n",
              "      <td>http://world-en.openfoodfacts.org/product/0000...</td>\n",
              "      <td>usda-ndb-import</td>\n",
              "      <td>1489055653</td>\n",
              "      <td>2017-03-09T10:34:13Z</td>\n",
              "      <td>1489055653</td>\n",
              "      <td>2017-03-09T10:34:13Z</td>\n",
              "      <td>Organic Polenta</td>\n",
              "      <td>NaN</td>\n",
              "      <td>NaN</td>\n",
              "      <td>NaN</td>\n",
              "      <td>NaN</td>\n",
              "      <td>Bob's Red Mill</td>\n",
              "      <td>bob-s-red-mill</td>\n",
              "      <td>NaN</td>\n",
              "      <td>NaN</td>\n",
              "      <td>NaN</td>\n",
              "      <td>NaN</td>\n",
              "      <td>NaN</td>\n",
              "      <td>NaN</td>\n",
              "      <td>NaN</td>\n",
              "      <td>NaN</td>\n",
              "      <td>NaN</td>\n",
              "      <td>NaN</td>\n",
              "      <td>NaN</td>\n",
              "      <td>NaN</td>\n",
              "      <td>NaN</td>\n",
              "      <td>NaN</td>\n",
              "      <td>NaN</td>\n",
              "      <td>NaN</td>\n",
              "      <td>NaN</td>\n",
              "      <td>US</td>\n",
              "      <td>en:united-states</td>\n",
              "      <td>United States</td>\n",
              "      <td>Organic polenta</td>\n",
              "      <td>NaN</td>\n",
              "      <td>NaN</td>\n",
              "      <td>NaN</td>\n",
              "      <td>NaN</td>\n",
              "      <td>NaN</td>\n",
              "      <td>35 g (0.25 cup)</td>\n",
              "      <td>NaN</td>\n",
              "      <td>0.0</td>\n",
              "      <td>[ organic-polenta -&gt; en:organic-polenta  ]  [...</td>\n",
              "      <td>NaN</td>\n",
              "      <td>NaN</td>\n",
              "      <td>0.0</td>\n",
              "      <td>NaN</td>\n",
              "      <td>NaN</td>\n",
              "      <td>0.0</td>\n",
              "      <td>...</td>\n",
              "      <td>NaN</td>\n",
              "      <td>NaN</td>\n",
              "      <td>NaN</td>\n",
              "      <td>NaN</td>\n",
              "      <td>NaN</td>\n",
              "      <td>NaN</td>\n",
              "      <td>NaN</td>\n",
              "      <td>NaN</td>\n",
              "      <td>NaN</td>\n",
              "      <td>NaN</td>\n",
              "      <td>NaN</td>\n",
              "      <td>NaN</td>\n",
              "      <td>NaN</td>\n",
              "      <td>NaN</td>\n",
              "      <td>NaN</td>\n",
              "      <td>NaN</td>\n",
              "      <td>NaN</td>\n",
              "      <td>NaN</td>\n",
              "      <td>NaN</td>\n",
              "      <td>NaN</td>\n",
              "      <td>NaN</td>\n",
              "      <td>NaN</td>\n",
              "      <td>NaN</td>\n",
              "      <td>NaN</td>\n",
              "      <td>NaN</td>\n",
              "      <td>NaN</td>\n",
              "      <td>NaN</td>\n",
              "      <td>NaN</td>\n",
              "      <td>NaN</td>\n",
              "      <td>NaN</td>\n",
              "      <td>NaN</td>\n",
              "      <td>NaN</td>\n",
              "      <td>NaN</td>\n",
              "      <td>NaN</td>\n",
              "      <td>NaN</td>\n",
              "      <td>NaN</td>\n",
              "      <td>NaN</td>\n",
              "      <td>NaN</td>\n",
              "      <td>NaN</td>\n",
              "      <td>NaN</td>\n",
              "      <td>NaN</td>\n",
              "      <td>NaN</td>\n",
              "      <td>NaN</td>\n",
              "      <td>NaN</td>\n",
              "      <td>NaN</td>\n",
              "      <td>NaN</td>\n",
              "      <td>NaN</td>\n",
              "      <td>NaN</td>\n",
              "      <td>NaN</td>\n",
              "      <td>NaN</td>\n",
              "    </tr>\n",
              "  </tbody>\n",
              "</table>\n",
              "<p>5 rows × 163 columns</p>\n",
              "</div>"
            ],
            "text/plain": [
              "            code                                                url  \\\n",
              "0  0000000003087  http://world-en.openfoodfacts.org/product/0000...   \n",
              "1  0000000004530  http://world-en.openfoodfacts.org/product/0000...   \n",
              "2  0000000004559  http://world-en.openfoodfacts.org/product/0000...   \n",
              "3  0000000016087  http://world-en.openfoodfacts.org/product/0000...   \n",
              "4  0000000016094  http://world-en.openfoodfacts.org/product/0000...   \n",
              "\n",
              "                      creator   created_t      created_datetime  \\\n",
              "0  openfoodfacts-contributors  1474103866  2016-09-17T09:17:46Z   \n",
              "1             usda-ndb-import  1489069957  2017-03-09T14:32:37Z   \n",
              "2             usda-ndb-import  1489069957  2017-03-09T14:32:37Z   \n",
              "3             usda-ndb-import  1489055731  2017-03-09T10:35:31Z   \n",
              "4             usda-ndb-import  1489055653  2017-03-09T10:34:13Z   \n",
              "\n",
              "  last_modified_t last_modified_datetime                    product_name  \\\n",
              "0      1474103893   2016-09-17T09:18:13Z              Farine de blé noir   \n",
              "1      1489069957   2017-03-09T14:32:37Z  Banana Chips Sweetened (Whole)   \n",
              "2      1489069957   2017-03-09T14:32:37Z                         Peanuts   \n",
              "3      1489055731   2017-03-09T10:35:31Z          Organic Salted Nut Mix   \n",
              "4      1489055653   2017-03-09T10:34:13Z                 Organic Polenta   \n",
              "\n",
              "  generic_name quantity packaging packaging_tags           brands  \\\n",
              "0          NaN      1kg       NaN            NaN  Ferme t'y R'nao   \n",
              "1          NaN      NaN       NaN            NaN              NaN   \n",
              "2          NaN      NaN       NaN            NaN   Torn & Glasser   \n",
              "3          NaN      NaN       NaN            NaN        Grizzlies   \n",
              "4          NaN      NaN       NaN            NaN   Bob's Red Mill   \n",
              "\n",
              "       brands_tags categories categories_tags categories_en origins  \\\n",
              "0  ferme-t-y-r-nao        NaN             NaN           NaN     NaN   \n",
              "1              NaN        NaN             NaN           NaN     NaN   \n",
              "2     torn-glasser        NaN             NaN           NaN     NaN   \n",
              "3        grizzlies        NaN             NaN           NaN     NaN   \n",
              "4   bob-s-red-mill        NaN             NaN           NaN     NaN   \n",
              "\n",
              "  origins_tags manufacturing_places manufacturing_places_tags labels  \\\n",
              "0          NaN                  NaN                       NaN    NaN   \n",
              "1          NaN                  NaN                       NaN    NaN   \n",
              "2          NaN                  NaN                       NaN    NaN   \n",
              "3          NaN                  NaN                       NaN    NaN   \n",
              "4          NaN                  NaN                       NaN    NaN   \n",
              "\n",
              "  labels_tags labels_en emb_codes emb_codes_tags first_packaging_code_geo  \\\n",
              "0         NaN       NaN       NaN            NaN                      NaN   \n",
              "1         NaN       NaN       NaN            NaN                      NaN   \n",
              "2         NaN       NaN       NaN            NaN                      NaN   \n",
              "3         NaN       NaN       NaN            NaN                      NaN   \n",
              "4         NaN       NaN       NaN            NaN                      NaN   \n",
              "\n",
              "  cities cities_tags purchase_places stores countries    countries_tags  \\\n",
              "0    NaN         NaN             NaN    NaN     en:FR         en:france   \n",
              "1    NaN         NaN             NaN    NaN        US  en:united-states   \n",
              "2    NaN         NaN             NaN    NaN        US  en:united-states   \n",
              "3    NaN         NaN             NaN    NaN        US  en:united-states   \n",
              "4    NaN         NaN             NaN    NaN        US  en:united-states   \n",
              "\n",
              "    countries_en                                   ingredients_text allergens  \\\n",
              "0         France                                                NaN       NaN   \n",
              "1  United States  Bananas, vegetable oil (coconut oil, corn oil ...       NaN   \n",
              "2  United States  Peanuts, wheat flour, sugar, rice flour, tapio...       NaN   \n",
              "3  United States  Organic hazelnuts, organic cashews, organic wa...       NaN   \n",
              "4  United States                                    Organic polenta       NaN   \n",
              "\n",
              "  allergens_en traces traces_tags traces_en     serving_size  no_nutriments  \\\n",
              "0          NaN    NaN         NaN       NaN              NaN            NaN   \n",
              "1          NaN    NaN         NaN       NaN     28 g (1 ONZ)            NaN   \n",
              "2          NaN    NaN         NaN       NaN  28 g (0.25 cup)            NaN   \n",
              "3          NaN    NaN         NaN       NaN  28 g (0.25 cup)            NaN   \n",
              "4          NaN    NaN         NaN       NaN  35 g (0.25 cup)            NaN   \n",
              "\n",
              "   additives_n                                          additives  \\\n",
              "0          NaN                                                NaN   \n",
              "1          0.0   [ bananas -> en:bananas  ]  [ vegetable-oil -...   \n",
              "2          0.0   [ peanuts -> en:peanuts  ]  [ wheat-flour -> ...   \n",
              "3          0.0   [ organic-hazelnuts -> en:organic-hazelnuts  ...   \n",
              "4          0.0   [ organic-polenta -> en:organic-polenta  ]  [...   \n",
              "\n",
              "  additives_tags additives_en  ingredients_from_palm_oil_n  \\\n",
              "0            NaN          NaN                          NaN   \n",
              "1            NaN          NaN                          0.0   \n",
              "2            NaN          NaN                          0.0   \n",
              "3            NaN          NaN                          0.0   \n",
              "4            NaN          NaN                          0.0   \n",
              "\n",
              "   ingredients_from_palm_oil ingredients_from_palm_oil_tags  \\\n",
              "0                        NaN                            NaN   \n",
              "1                        NaN                            NaN   \n",
              "2                        NaN                            NaN   \n",
              "3                        NaN                            NaN   \n",
              "4                        NaN                            NaN   \n",
              "\n",
              "   ingredients_that_may_be_from_palm_oil_n  ...  casein_100g  \\\n",
              "0                                      NaN  ...          NaN   \n",
              "1                                      0.0  ...          NaN   \n",
              "2                                      0.0  ...          NaN   \n",
              "3                                      0.0  ...          NaN   \n",
              "4                                      0.0  ...          NaN   \n",
              "\n",
              "  serum-proteins_100g  nucleotides_100g salt_100g sodium_100g alcohol_100g  \\\n",
              "0                 NaN               NaN       NaN         NaN          NaN   \n",
              "1                 NaN               NaN      0.00        0.00          NaN   \n",
              "2                 NaN               NaN      0.64        0.25          NaN   \n",
              "3                 NaN               NaN      1.22        0.48          NaN   \n",
              "4                 NaN               NaN       NaN         NaN          NaN   \n",
              "\n",
              "  vitamin-a_100g beta-carotene_100g vitamin-d_100g vitamin-e_100g  \\\n",
              "0            NaN                NaN            NaN            NaN   \n",
              "1            0.0                NaN            NaN            NaN   \n",
              "2            0.0                NaN            NaN            NaN   \n",
              "3            NaN                NaN            NaN            NaN   \n",
              "4            NaN                NaN            NaN            NaN   \n",
              "\n",
              "  vitamin-k_100g vitamin-c_100g vitamin-b1_100g  vitamin-b2_100g  \\\n",
              "0            NaN            NaN             NaN              NaN   \n",
              "1            NaN           0.02             NaN              NaN   \n",
              "2            NaN           0.00             NaN              NaN   \n",
              "3            NaN            NaN             NaN              NaN   \n",
              "4            NaN            NaN             NaN              NaN   \n",
              "\n",
              "   vitamin-pp_100g  vitamin-b6_100g  vitamin-b9_100g  folates_100g  \\\n",
              "0              NaN              NaN              NaN           NaN   \n",
              "1              NaN              NaN              NaN           NaN   \n",
              "2              NaN              NaN              NaN           NaN   \n",
              "3              NaN              NaN              NaN           NaN   \n",
              "4              NaN              NaN              NaN           NaN   \n",
              "\n",
              "   vitamin-b12_100g  biotin_100g  pantothenic-acid_100g  silica_100g  \\\n",
              "0               NaN          NaN                    NaN          NaN   \n",
              "1               NaN          NaN                    NaN          NaN   \n",
              "2               NaN          NaN                    NaN          NaN   \n",
              "3               NaN          NaN                    NaN          NaN   \n",
              "4               NaN          NaN                    NaN          NaN   \n",
              "\n",
              "   bicarbonate_100g  potassium_100g  chloride_100g  calcium_100g  \\\n",
              "0               NaN             NaN            NaN           NaN   \n",
              "1               NaN             NaN            NaN          0.00   \n",
              "2               NaN             NaN            NaN          0.07   \n",
              "3               NaN             NaN            NaN          0.14   \n",
              "4               NaN             NaN            NaN           NaN   \n",
              "\n",
              "   phosphorus_100g  iron_100g  magnesium_100g  zinc_100g  copper_100g  \\\n",
              "0              NaN        NaN             NaN        NaN          NaN   \n",
              "1              NaN   1.29e-03             NaN        NaN          NaN   \n",
              "2              NaN   1.29e-03             NaN        NaN          NaN   \n",
              "3              NaN   5.14e-03             NaN        NaN          NaN   \n",
              "4              NaN        NaN             NaN        NaN          NaN   \n",
              "\n",
              "   manganese_100g  fluoride_100g  selenium_100g  chromium_100g  \\\n",
              "0             NaN            NaN            NaN            NaN   \n",
              "1             NaN            NaN            NaN            NaN   \n",
              "2             NaN            NaN            NaN            NaN   \n",
              "3             NaN            NaN            NaN            NaN   \n",
              "4             NaN            NaN            NaN            NaN   \n",
              "\n",
              "   molybdenum_100g  iodine_100g  caffeine_100g  taurine_100g  ph_100g  \\\n",
              "0              NaN          NaN            NaN           NaN      NaN   \n",
              "1              NaN          NaN            NaN           NaN      NaN   \n",
              "2              NaN          NaN            NaN           NaN      NaN   \n",
              "3              NaN          NaN            NaN           NaN      NaN   \n",
              "4              NaN          NaN            NaN           NaN      NaN   \n",
              "\n",
              "   fruits-vegetables-nuts_100g  fruits-vegetables-nuts-estimate_100g  \\\n",
              "0                          NaN                                   NaN   \n",
              "1                          NaN                                   NaN   \n",
              "2                          NaN                                   NaN   \n",
              "3                          NaN                                   NaN   \n",
              "4                          NaN                                   NaN   \n",
              "\n",
              "   collagen-meat-protein-ratio_100g  cocoa_100g  chlorophyl_100g  \\\n",
              "0                               NaN         NaN              NaN   \n",
              "1                               NaN         NaN              NaN   \n",
              "2                               NaN         NaN              NaN   \n",
              "3                               NaN         NaN              NaN   \n",
              "4                               NaN         NaN              NaN   \n",
              "\n",
              "   carbon-footprint_100g  nutrition-score-fr_100g  nutrition-score-uk_100g  \\\n",
              "0                    NaN                      NaN                      NaN   \n",
              "1                    NaN                     14.0                     14.0   \n",
              "2                    NaN                      0.0                      0.0   \n",
              "3                    NaN                     12.0                     12.0   \n",
              "4                    NaN                      NaN                      NaN   \n",
              "\n",
              "   glycemic-index_100g  water-hardness_100g  \n",
              "0                  NaN                  NaN  \n",
              "1                  NaN                  NaN  \n",
              "2                  NaN                  NaN  \n",
              "3                  NaN                  NaN  \n",
              "4                  NaN                  NaN  \n",
              "\n",
              "[5 rows x 163 columns]"
            ]
          },
          "metadata": {
            "tags": []
          }
        }
      ]
    },
    {
      "cell_type": "markdown",
      "metadata": {
        "collapsed": true,
        "id": "5zNYhCuXWNri"
      },
      "source": [
        "Сколько наблюдений в наборе данных?\n"
      ]
    },
    {
      "cell_type": "code",
      "metadata": {
        "id": "LsCeZ1GEWNrk",
        "colab": {
          "base_uri": "https://localhost:8080/"
        },
        "outputId": "7e21d814-30e1-4a94-c6cc-7162d9c52f27"
      },
      "source": [
        "print(len(food))"
      ],
      "execution_count": null,
      "outputs": [
        {
          "output_type": "stream",
          "text": [
            "356027\n"
          ],
          "name": "stdout"
        }
      ]
    },
    {
      "cell_type": "markdown",
      "metadata": {
        "collapsed": true,
        "id": "8pVxPUFNWNrq"
      },
      "source": [
        "Сколько столбцов в наборе данных?"
      ]
    },
    {
      "cell_type": "code",
      "metadata": {
        "collapsed": true,
        "id": "7z1r72acWNru",
        "colab": {
          "base_uri": "https://localhost:8080/"
        },
        "outputId": "f07bf726-d45c-4c0f-89d4-7c87e8f54b68"
      },
      "source": [
        "print(len(food.columns))"
      ],
      "execution_count": null,
      "outputs": [
        {
          "output_type": "stream",
          "text": [
            "163\n"
          ],
          "name": "stdout"
        }
      ]
    },
    {
      "cell_type": "markdown",
      "metadata": {
        "collapsed": true,
        "id": "vTpigtyjWNrz"
      },
      "source": [
        "Напечатайте все названия столбцов"
      ]
    },
    {
      "cell_type": "code",
      "metadata": {
        "id": "F2vCLS8tWNr1",
        "colab": {
          "base_uri": "https://localhost:8080/"
        },
        "outputId": "f87adbea-3f4c-48d2-984d-d86ec0c155a4"
      },
      "source": [
        "for c in food.columns:\n",
        "  print(c)"
      ],
      "execution_count": null,
      "outputs": [
        {
          "output_type": "stream",
          "text": [
            "code\n",
            "url\n",
            "creator\n",
            "created_t\n",
            "created_datetime\n",
            "last_modified_t\n",
            "last_modified_datetime\n",
            "product_name\n",
            "generic_name\n",
            "quantity\n",
            "packaging\n",
            "packaging_tags\n",
            "brands\n",
            "brands_tags\n",
            "categories\n",
            "categories_tags\n",
            "categories_en\n",
            "origins\n",
            "origins_tags\n",
            "manufacturing_places\n",
            "manufacturing_places_tags\n",
            "labels\n",
            "labels_tags\n",
            "labels_en\n",
            "emb_codes\n",
            "emb_codes_tags\n",
            "first_packaging_code_geo\n",
            "cities\n",
            "cities_tags\n",
            "purchase_places\n",
            "stores\n",
            "countries\n",
            "countries_tags\n",
            "countries_en\n",
            "ingredients_text\n",
            "allergens\n",
            "allergens_en\n",
            "traces\n",
            "traces_tags\n",
            "traces_en\n",
            "serving_size\n",
            "no_nutriments\n",
            "additives_n\n",
            "additives\n",
            "additives_tags\n",
            "additives_en\n",
            "ingredients_from_palm_oil_n\n",
            "ingredients_from_palm_oil\n",
            "ingredients_from_palm_oil_tags\n",
            "ingredients_that_may_be_from_palm_oil_n\n",
            "ingredients_that_may_be_from_palm_oil\n",
            "ingredients_that_may_be_from_palm_oil_tags\n",
            "nutrition_grade_uk\n",
            "nutrition_grade_fr\n",
            "pnns_groups_1\n",
            "pnns_groups_2\n",
            "states\n",
            "states_tags\n",
            "states_en\n",
            "main_category\n",
            "main_category_en\n",
            "image_url\n",
            "image_small_url\n",
            "energy_100g\n",
            "energy-from-fat_100g\n",
            "fat_100g\n",
            "saturated-fat_100g\n",
            "-butyric-acid_100g\n",
            "-caproic-acid_100g\n",
            "-caprylic-acid_100g\n",
            "-capric-acid_100g\n",
            "-lauric-acid_100g\n",
            "-myristic-acid_100g\n",
            "-palmitic-acid_100g\n",
            "-stearic-acid_100g\n",
            "-arachidic-acid_100g\n",
            "-behenic-acid_100g\n",
            "-lignoceric-acid_100g\n",
            "-cerotic-acid_100g\n",
            "-montanic-acid_100g\n",
            "-melissic-acid_100g\n",
            "monounsaturated-fat_100g\n",
            "polyunsaturated-fat_100g\n",
            "omega-3-fat_100g\n",
            "-alpha-linolenic-acid_100g\n",
            "-eicosapentaenoic-acid_100g\n",
            "-docosahexaenoic-acid_100g\n",
            "omega-6-fat_100g\n",
            "-linoleic-acid_100g\n",
            "-arachidonic-acid_100g\n",
            "-gamma-linolenic-acid_100g\n",
            "-dihomo-gamma-linolenic-acid_100g\n",
            "omega-9-fat_100g\n",
            "-oleic-acid_100g\n",
            "-elaidic-acid_100g\n",
            "-gondoic-acid_100g\n",
            "-mead-acid_100g\n",
            "-erucic-acid_100g\n",
            "-nervonic-acid_100g\n",
            "trans-fat_100g\n",
            "cholesterol_100g\n",
            "carbohydrates_100g\n",
            "sugars_100g\n",
            "-sucrose_100g\n",
            "-glucose_100g\n",
            "-fructose_100g\n",
            "-lactose_100g\n",
            "-maltose_100g\n",
            "-maltodextrins_100g\n",
            "starch_100g\n",
            "polyols_100g\n",
            "fiber_100g\n",
            "proteins_100g\n",
            "casein_100g\n",
            "serum-proteins_100g\n",
            "nucleotides_100g\n",
            "salt_100g\n",
            "sodium_100g\n",
            "alcohol_100g\n",
            "vitamin-a_100g\n",
            "beta-carotene_100g\n",
            "vitamin-d_100g\n",
            "vitamin-e_100g\n",
            "vitamin-k_100g\n",
            "vitamin-c_100g\n",
            "vitamin-b1_100g\n",
            "vitamin-b2_100g\n",
            "vitamin-pp_100g\n",
            "vitamin-b6_100g\n",
            "vitamin-b9_100g\n",
            "folates_100g\n",
            "vitamin-b12_100g\n",
            "biotin_100g\n",
            "pantothenic-acid_100g\n",
            "silica_100g\n",
            "bicarbonate_100g\n",
            "potassium_100g\n",
            "chloride_100g\n",
            "calcium_100g\n",
            "phosphorus_100g\n",
            "iron_100g\n",
            "magnesium_100g\n",
            "zinc_100g\n",
            "copper_100g\n",
            "manganese_100g\n",
            "fluoride_100g\n",
            "selenium_100g\n",
            "chromium_100g\n",
            "molybdenum_100g\n",
            "iodine_100g\n",
            "caffeine_100g\n",
            "taurine_100g\n",
            "ph_100g\n",
            "fruits-vegetables-nuts_100g\n",
            "fruits-vegetables-nuts-estimate_100g\n",
            "collagen-meat-protein-ratio_100g\n",
            "cocoa_100g\n",
            "chlorophyl_100g\n",
            "carbon-footprint_100g\n",
            "nutrition-score-fr_100g\n",
            "nutrition-score-uk_100g\n",
            "glycemic-index_100g\n",
            "water-hardness_100g\n"
          ],
          "name": "stdout"
        }
      ]
    },
    {
      "cell_type": "markdown",
      "metadata": {
        "collapsed": true,
        "id": "FE6-pvSQWNr6"
      },
      "source": [
        "Какое название у 105 столбца?"
      ]
    },
    {
      "cell_type": "code",
      "metadata": {
        "id": "9Dsd66TzWNr8",
        "colab": {
          "base_uri": "https://localhost:8080/"
        },
        "outputId": "6d33f8b4-f1dc-444e-e37a-718958d5ab91"
      },
      "source": [
        "print(food.columns[105])"
      ],
      "execution_count": null,
      "outputs": [
        {
          "output_type": "stream",
          "text": [
            "-fructose_100g\n"
          ],
          "name": "stdout"
        }
      ]
    },
    {
      "cell_type": "markdown",
      "metadata": {
        "id": "1EG9Q3R7WNsB"
      },
      "source": [
        "Какой тип наблюдений в 105 столбце?"
      ]
    },
    {
      "cell_type": "code",
      "metadata": {
        "id": "dq9lCRisWNsD",
        "colab": {
          "base_uri": "https://localhost:8080/"
        },
        "outputId": "5d441bbf-3848-40e8-f015-7a65391b18c5"
      },
      "source": [
        "print(food.dtypes[105])"
      ],
      "execution_count": null,
      "outputs": [
        {
          "output_type": "stream",
          "text": [
            "float64\n"
          ],
          "name": "stdout"
        }
      ]
    },
    {
      "cell_type": "markdown",
      "metadata": {
        "id": "OO9PliDMWNsQ"
      },
      "source": [
        "Каково значение имени продукта в 19-м наблюдении?"
      ]
    },
    {
      "cell_type": "code",
      "metadata": {
        "id": "z7W32zeXWNsS",
        "colab": {
          "base_uri": "https://localhost:8080/",
          "height": 35
        },
        "outputId": "87b02678-2901-4bfd-fa5d-c67c48db0120"
      },
      "source": [
        "food.iloc[19]['product_name']"
      ],
      "execution_count": null,
      "outputs": [
        {
          "output_type": "execute_result",
          "data": {
            "application/vnd.google.colaboratory.intrinsic+json": {
              "type": "string"
            },
            "text/plain": [
              "'Organic Oat Groats'"
            ]
          },
          "metadata": {
            "tags": []
          },
          "execution_count": 79
        }
      ]
    },
    {
      "cell_type": "markdown",
      "metadata": {
        "id": "otqmVrJRm-39"
      },
      "source": [
        "### Блок №5 (Pandas - фильтрация данных)"
      ]
    },
    {
      "cell_type": "markdown",
      "metadata": {
        "id": "voxC5Eylm-39"
      },
      "source": [
        "Считать данные по  [адресу](https://raw.githubusercontent.com/justmarkham/DAT8/master/data/chipotle.tsv). \n",
        "Присвоить переменной chipo"
      ]
    },
    {
      "cell_type": "code",
      "metadata": {
        "id": "t_iM6xOxm-39",
        "colab": {
          "base_uri": "https://localhost:8080/"
        },
        "outputId": "e4ecfd83-b39d-422b-a3e9-96040ce8762f"
      },
      "source": [
        "import pandas as pd\n",
        "import json\n",
        "import re\n",
        "chipo = pd.read_csv(\"https://raw.githubusercontent.com/justmarkham/DAT8/master/data/chipotle.tsv\", sep='\\t')\n",
        "print(chipo)"
      ],
      "execution_count": null,
      "outputs": [
        {
          "output_type": "stream",
          "text": [
            "      order_id  ...  item_price\n",
            "0            1  ...      $2.39 \n",
            "1            1  ...      $3.39 \n",
            "2            1  ...      $3.39 \n",
            "3            1  ...      $2.39 \n",
            "4            2  ...     $16.98 \n",
            "...        ...  ...         ...\n",
            "4617      1833  ...     $11.75 \n",
            "4618      1833  ...     $11.75 \n",
            "4619      1834  ...     $11.25 \n",
            "4620      1834  ...      $8.75 \n",
            "4621      1834  ...      $8.75 \n",
            "\n",
            "[4622 rows x 5 columns]\n"
          ],
          "name": "stdout"
        }
      ]
    },
    {
      "cell_type": "markdown",
      "metadata": {
        "id": "GjSeilP6m-3-"
      },
      "source": [
        "Как много продуктов стоят более чем $10.00?"
      ]
    },
    {
      "cell_type": "code",
      "metadata": {
        "collapsed": true,
        "id": "CUPVB9z0m-3-"
      },
      "source": [
        "for i in chipo.index:\n",
        "    chipo.at[i, \"item_price\"] = float(chipo.at[i, \"item_price\"][1:])"
      ],
      "execution_count": null,
      "outputs": []
    },
    {
      "cell_type": "code",
      "metadata": {
        "colab": {
          "base_uri": "https://localhost:8080/"
        },
        "id": "N3oS1UDRuFnt",
        "outputId": "893d5b62-1904-4006-c104-82ca6771cba1"
      },
      "source": [
        "print(len(chipo[chipo[\"item_price\"] > 10.00]))    "
      ],
      "execution_count": null,
      "outputs": [
        {
          "output_type": "stream",
          "text": [
            "1130\n"
          ],
          "name": "stdout"
        }
      ]
    },
    {
      "cell_type": "markdown",
      "metadata": {
        "id": "LVg8XnvCm-3-"
      },
      "source": [
        "Какова цена каждого предмета? Напечатать столбцы item_name и item_price"
      ]
    },
    {
      "cell_type": "code",
      "metadata": {
        "collapsed": true,
        "id": "TBytBVrim-3_",
        "colab": {
          "base_uri": "https://localhost:8080/",
          "height": 419
        },
        "outputId": "79b291f5-ba71-4c99-b522-74285c380389"
      },
      "source": [
        "display(chipo[[\"item_name\", \"item_price\"]])"
      ],
      "execution_count": null,
      "outputs": [
        {
          "output_type": "display_data",
          "data": {
            "text/html": [
              "<div>\n",
              "<style scoped>\n",
              "    .dataframe tbody tr th:only-of-type {\n",
              "        vertical-align: middle;\n",
              "    }\n",
              "\n",
              "    .dataframe tbody tr th {\n",
              "        vertical-align: top;\n",
              "    }\n",
              "\n",
              "    .dataframe thead th {\n",
              "        text-align: right;\n",
              "    }\n",
              "</style>\n",
              "<table border=\"1\" class=\"dataframe\">\n",
              "  <thead>\n",
              "    <tr style=\"text-align: right;\">\n",
              "      <th></th>\n",
              "      <th>item_name</th>\n",
              "      <th>item_price</th>\n",
              "    </tr>\n",
              "  </thead>\n",
              "  <tbody>\n",
              "    <tr>\n",
              "      <th>0</th>\n",
              "      <td>Chips and Fresh Tomato Salsa</td>\n",
              "      <td>2.39</td>\n",
              "    </tr>\n",
              "    <tr>\n",
              "      <th>1</th>\n",
              "      <td>Izze</td>\n",
              "      <td>3.39</td>\n",
              "    </tr>\n",
              "    <tr>\n",
              "      <th>2</th>\n",
              "      <td>Nantucket Nectar</td>\n",
              "      <td>3.39</td>\n",
              "    </tr>\n",
              "    <tr>\n",
              "      <th>3</th>\n",
              "      <td>Chips and Tomatillo-Green Chili Salsa</td>\n",
              "      <td>2.39</td>\n",
              "    </tr>\n",
              "    <tr>\n",
              "      <th>4</th>\n",
              "      <td>Chicken Bowl</td>\n",
              "      <td>16.98</td>\n",
              "    </tr>\n",
              "    <tr>\n",
              "      <th>...</th>\n",
              "      <td>...</td>\n",
              "      <td>...</td>\n",
              "    </tr>\n",
              "    <tr>\n",
              "      <th>4617</th>\n",
              "      <td>Steak Burrito</td>\n",
              "      <td>11.75</td>\n",
              "    </tr>\n",
              "    <tr>\n",
              "      <th>4618</th>\n",
              "      <td>Steak Burrito</td>\n",
              "      <td>11.75</td>\n",
              "    </tr>\n",
              "    <tr>\n",
              "      <th>4619</th>\n",
              "      <td>Chicken Salad Bowl</td>\n",
              "      <td>11.25</td>\n",
              "    </tr>\n",
              "    <tr>\n",
              "      <th>4620</th>\n",
              "      <td>Chicken Salad Bowl</td>\n",
              "      <td>8.75</td>\n",
              "    </tr>\n",
              "    <tr>\n",
              "      <th>4621</th>\n",
              "      <td>Chicken Salad Bowl</td>\n",
              "      <td>8.75</td>\n",
              "    </tr>\n",
              "  </tbody>\n",
              "</table>\n",
              "<p>4622 rows × 2 columns</p>\n",
              "</div>"
            ],
            "text/plain": [
              "                                  item_name item_price\n",
              "0              Chips and Fresh Tomato Salsa       2.39\n",
              "1                                      Izze       3.39\n",
              "2                          Nantucket Nectar       3.39\n",
              "3     Chips and Tomatillo-Green Chili Salsa       2.39\n",
              "4                              Chicken Bowl      16.98\n",
              "...                                     ...        ...\n",
              "4617                          Steak Burrito      11.75\n",
              "4618                          Steak Burrito      11.75\n",
              "4619                     Chicken Salad Bowl      11.25\n",
              "4620                     Chicken Salad Bowl       8.75\n",
              "4621                     Chicken Salad Bowl       8.75\n",
              "\n",
              "[4622 rows x 2 columns]"
            ]
          },
          "metadata": {
            "tags": []
          }
        }
      ]
    },
    {
      "cell_type": "markdown",
      "metadata": {
        "id": "lvOk6vBQm-3_"
      },
      "source": [
        "Сколько было заказано самого дорогого предмета?"
      ]
    },
    {
      "cell_type": "code",
      "metadata": {
        "collapsed": true,
        "id": "OCmn55a8m-3_",
        "colab": {
          "base_uri": "https://localhost:8080/"
        },
        "outputId": "d71d01d7-2faf-4fc7-adf9-474fb3d59507"
      },
      "source": [
        "# Get most expensive item\n",
        "expensive = chipo.sort_values('item_price').iloc[-1]\n",
        "result_df = chipo[chipo['item_name'].astype(str).str.contains(expensive['item_name'])]\n",
        "print(result_df['quantity'].sum())      "
      ],
      "execution_count": null,
      "outputs": [
        {
          "output_type": "stream",
          "text": [
            "130\n"
          ],
          "name": "stdout"
        }
      ]
    },
    {
      "cell_type": "markdown",
      "metadata": {
        "id": "65P41_r-m-4A"
      },
      "source": [
        "Сколько раз был заказан предмет \"Veggie Salad Bowl\"?"
      ]
    },
    {
      "cell_type": "code",
      "metadata": {
        "collapsed": true,
        "id": "qK4ihmz5m-4A",
        "colab": {
          "base_uri": "https://localhost:8080/"
        },
        "outputId": "8bcbec74-155e-4238-e8cc-1b3e6528e25e"
      },
      "source": [
        "result_df = chipo[chipo['item_name'].astype(str).str.contains(\"Veggie Salad Bowl\")]\n",
        "print(result_df['quantity'].sum())     "
      ],
      "execution_count": null,
      "outputs": [
        {
          "output_type": "stream",
          "text": [
            "18\n"
          ],
          "name": "stdout"
        }
      ]
    },
    {
      "cell_type": "markdown",
      "metadata": {
        "id": "kRo8YwzAm-4A"
      },
      "source": [
        "Сколько раз люди заказали более чем 1 предмет \"Canned Soda\"?"
      ]
    },
    {
      "cell_type": "code",
      "metadata": {
        "id": "mK22SvU5m-4A",
        "colab": {
          "base_uri": "https://localhost:8080/"
        },
        "outputId": "ed116616-e849-47fe-9562-b227d2737ca1"
      },
      "source": [
        "df = chipo[chipo['item_name'].astype(str).str.contains(\"Canned Soda\")]\n",
        "print(len(df[df['quantity'] > 1]))"
      ],
      "execution_count": null,
      "outputs": [
        {
          "output_type": "stream",
          "text": [
            "20\n"
          ],
          "name": "stdout"
        }
      ]
    }
  ]
}